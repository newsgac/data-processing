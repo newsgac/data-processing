{
 "cells": [
  {
   "cell_type": "code",
   "execution_count": null,
   "metadata": {},
   "outputs": [],
   "source": [
    "import numpy as np\n",
    "import matplotlib.pyplot as plt\n",
    "                  # NIE ACH REC VER OPI REP INT COL SER LOS OVE ING FIC ESS MED PRO MOP\n",
    "erikFasttext =    [ 664,284,147,104, 83, 61, 43, 38,  0,  0,  0,  0,  0,  0,  0,  0,  0]\n",
    "linkArticlesNRC = [1240,476,150,111,117, 62, 44, 67,297,117, 60, 42, 38, 34, 29, 24, 22]\n",
    "labels = [\"NIE\",\"ACH\",\"REC\",\"VER\",\"OPI\",\"REP\",\"INT\",\"COL\",\"SER\",\"LOS\",\"OVE\",\"ING\",\"FIC\",\"ESS\",\"MED\",\"PRO\",\"MOP\"]\n",
    "names = [\"Nieuwsbericht\",\"Achtergrond/Nieuwsanalyse\",\"Recensie\",\"Verslag\",\"Opiniestuk + Hoofdredactioneel commentaar\",\n",
    "         \"Reportage/feature\",\"Interview\",\"Column\",\"Service\",\"Losse afbeelding\",\"Overzicht\",\"Ingezonden brief\",\n",
    "         \"Fictie\",\"Essay\",\"Mededeling krant (rectificatie)\",\"Profiel/portret/necrologie\",\n",
    "         \"Moppen/spreuken/puzzels/weetjes\"]\n",
    "text = \"\"\n",
    "for i in range(0,len(labels)): text += labels[i]+\": \"+names[i]+\"\\n\"\n",
    "\n",
    "plt.figure(figsize=(15,8))\n",
    "new = plt.bar(range(1,len(linkArticlesNRC)+1),linkArticlesNRC,color=\"r\")\n",
    "old = plt.bar(range(1,len(erikFasttext)+1),erikFasttext,color=\"b\",tick_label=labels,width=0.5)\n",
    "plt.legend([old[0],new[0]],[\"old training data (\"+str(np.sum(erikFasttext))+\" articles)\",\n",
    "                            \"new trainingdata (\"+str(np.sum(linkArticlesNRC))+\" articles)\"])\n",
    "plt.text(9.5,660,text)\n",
    "\n",
    "plt.savefig(\"genre-count.png\")\n",
    "plt.show()\n"
   ]
  },
  {
   "cell_type": "code",
   "execution_count": null,
   "metadata": {
    "collapsed": true
   },
   "outputs": [],
   "source": []
  }
 ],
 "metadata": {
  "kernelspec": {
   "display_name": "Python 3",
   "language": "python",
   "name": "python3"
  },
  "language_info": {
   "codemirror_mode": {
    "name": "ipython",
    "version": 3
   },
   "file_extension": ".py",
   "mimetype": "text/x-python",
   "name": "python",
   "nbconvert_exporter": "python",
   "pygments_lexer": "ipython3",
   "version": "3.6.1"
  }
 },
 "nbformat": 4,
 "nbformat_minor": 2
}
