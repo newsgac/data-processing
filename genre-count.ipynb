{
 "cells": [
  {
   "cell_type": "code",
   "execution_count": null,
   "metadata": {},
   "outputs": [],
   "source": [
    "import numpy as np\n",
    "import matplotlib.pyplot as plt\n",
    "                   # NIE ACH REC OPI VER COL REP INT SER LOS OVE PRO ING FIC ESS MED\n",
    "erikFasttext =     [ 664,284,147, 83,104, 38, 61, 43,  0,  0,  0,  0,  0,  0,  0,  0]\n",
    "linkArticlesNRC1 = [1240,476,150,117,111, 67, 62, 44,  0,  0,  0,  0,  0,  0,  0,  0]\n",
    "linkArticlesNRC2 = [   0,  0,  0,  0,  0,  0,  0,  0,297,117, 60, 46, 42, 38, 34, 29]\n",
    "labels = [\"NEW\",\"BAC\",\"REV\",\"OPE\",\"REP\",\"COL\",\"FEA\",\"INT\",\"SER\",\"PIC\",\"OVE\",\"LET\",\"FIC\",\"ESS\",\"ANN\",\"PRO\"]\n",
    "names = [\"News\",\"Background\",\"Review\",\"Op-ed\",\"Report\",\n",
    "         \"Column\",\"Feature\",\"Interview\",\"Service\",\"Picture\",\"Overview\",\"Letter\",\n",
    "         \"Fiction\",\"Essay\",\"Announcement\",\"Profile\"]\n",
    "text = \"\"\n",
    "for i in range(0,len(labels)): text += labels[i]+\": \"+names[i]+\"\\n\"\n",
    "\n",
    "plt.figure(figsize=(15,8))\n",
    "plt.rcParams.update({'font.size': 18})\n",
    "new1 = plt.bar(range(1,len(linkArticlesNRC1)+1),linkArticlesNRC1,color=[\"r\",\"g\",\"b\",\"orange\",\"purple\",\"yellow\"],tick_label=labels)\n",
    "new2 = plt.bar(range(1,len(linkArticlesNRC2)+1),linkArticlesNRC2,color=\"grey\")\n",
    "plt.text(12.7,200,text)\n",
    "\n",
    "plt.savefig(\"genre-count.png\")\n",
    "plt.show()"
   ]
  },
  {
   "cell_type": "code",
   "execution_count": null,
   "metadata": {
    "collapsed": true
   },
   "outputs": [],
   "source": []
  }
 ],
 "metadata": {
  "kernelspec": {
   "display_name": "Python 3",
   "language": "python",
   "name": "python3"
  },
  "language_info": {
   "codemirror_mode": {
    "name": "ipython",
    "version": 3
   },
   "file_extension": ".py",
   "mimetype": "text/x-python",
   "name": "python",
   "nbconvert_exporter": "python",
   "pygments_lexer": "ipython3",
   "version": "3.6.1"
  }
 },
 "nbformat": 4,
 "nbformat_minor": 2
}
