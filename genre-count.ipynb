{
 "cells": [
  {
   "cell_type": "code",
   "execution_count": null,
   "metadata": {},
   "outputs": [],
   "source": [
    "import numpy as np\n",
    "import matplotlib.pyplot as plt\n",
    "                  # NIE ACH REC VER OPI REP INT COL SER LOS OVE PRO ING FIC ESS MED\n",
    "erikFasttext =    [ 664,284,147,104, 83, 61, 43, 38,  0,  0,  0,  0,  0,  0,  0,  0]\n",
    "linkArticlesNRC1 = [1240,476,150,111,117, 62, 44, 67,  0,  0,  0,  0,  0,  0,  0,  0]\n",
    "linkArticlesNRC2 = [   0,  0,  0,  0,  0,  0,  0,  0,297,117, 60, 46, 42, 38, 34, 29]\n",
    "labels = [\"NEW\",\"BAC\",\"REV\",\"REP\",\"OPE\",\"FEA\",\"INT\",\"COL\",\"SER\",\"PIC\",\"OVE\",\"LET\",\"FIC\",\"ESS\",\"MED\",\"PRO\"]\n",
    "names = [\"News\",\"Background\",\"Review\",\"Report\",\"Op-ed\",\n",
    "         \"Feature\",\"Interview\",\"Column\",\"Service\",\"Picture\",\"Overzicht\",\"Letter\",\n",
    "         \"Fiction\",\"Essay\",\"Announcement\",\"Profile\"]\n",
    "text = \"\"\n",
    "for i in range(0,len(labels)): text += labels[i]+\": \"+names[i]+\"\\n\"\n",
    "\n",
    "plt.figure(figsize=(15,8))\n",
    "plt.rcParams.update({'font.size': 18})\n",
    "new1 = plt.bar(range(1,len(linkArticlesNRC1)+1),linkArticlesNRC1,color=[\"r\",\"g\",\"b\",\"orange\",\"purple\",\"yellow\"],tick_label=labels)\n",
    "new2 = plt.bar(range(1,len(linkArticlesNRC2)+1),linkArticlesNRC2,color=\"grey\")\n",
    "#old = plt.bar(range(1,len(erikFasttext)+1),erikFasttext,color=\"b\",tick_label=labels,width=0.5)\n",
    "#plt.legend([new[0]],[\"new trainingdata (\"+str(np.sum(linkArticlesNRC))+\" articles)\"])\n",
    "plt.text(12.7,200,text)\n",
    "\n",
    "plt.savefig(\"genre-count.png\")\n",
    "plt.show()"
   ]
  },
  {
   "cell_type": "code",
   "execution_count": null,
   "metadata": {
    "collapsed": true
   },
   "outputs": [],
   "source": []
  }
 ],
 "metadata": {
  "kernelspec": {
   "display_name": "Python 3",
   "language": "python",
   "name": "python3"
  },
  "language_info": {
   "codemirror_mode": {
    "name": "ipython",
    "version": 3
   },
   "file_extension": ".py",
   "mimetype": "text/x-python",
   "name": "python",
   "nbconvert_exporter": "python",
   "pygments_lexer": "ipython3",
   "version": "3.6.1"
  }
 },
 "nbformat": 4,
 "nbformat_minor": 2
}
